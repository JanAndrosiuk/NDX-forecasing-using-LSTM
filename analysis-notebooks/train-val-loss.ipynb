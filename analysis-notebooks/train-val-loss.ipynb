{
 "cells": [
  {
   "cell_type": "markdown",
   "metadata": {},
   "source": [
    "Train vs validation loss on sample run."
   ]
  },
  {
   "cell_type": "code",
   "execution_count": 25,
   "metadata": {
    "editable": true,
    "slideshow": {
     "slide_type": ""
    },
    "tags": [],
    "vscode": {
     "languageId": "plaintext"
    }
   },
   "outputs": [],
   "source": [
    "import os\n",
    "import numpy as np\n",
    "import pandas as pd\n",
    "import matplotlib.pyplot as plt\n",
    "import pickle\n",
    "\n",
    "dir_proj = os.path.dirname(os.path.abspath(os.getcwd()))+'/'\n",
    "model_timestamp = \"2023-12-03_00-48\"\n",
    "export_path = f'{dir_proj}reports/export/{model_timestamp}/'\n",
    "path_fit_history = f'{export_path}fit_history_{model_timestamp}.csv'\n",
    "path_equity_line_array = f'{export_path}eq_line_{model_timestamp}.pkl'\n",
    "\n",
    "df_fit_history = pd.read_csv(path_fit_history)\n",
    "with open(path_equity_line_array, 'rb') as fh:\n",
    "    array_equity_line = pickle.load(fh)"
   ]
  },
  {
   "cell_type": "code",
   "execution_count": 63,
   "metadata": {},
   "outputs": [
    {
     "data": {
      "text/html": [
       "<div>\n",
       "<style scoped>\n",
       "    .dataframe tbody tr th:only-of-type {\n",
       "        vertical-align: middle;\n",
       "    }\n",
       "\n",
       "    .dataframe tbody tr th {\n",
       "        vertical-align: top;\n",
       "    }\n",
       "\n",
       "    .dataframe thead th {\n",
       "        text-align: right;\n",
       "    }\n",
       "</style>\n",
       "<table border=\"1\" class=\"dataframe\">\n",
       "  <thead>\n",
       "    <tr style=\"text-align: right;\">\n",
       "      <th></th>\n",
       "      <th>loss</th>\n",
       "      <th>val_loss</th>\n",
       "      <th>window_index</th>\n",
       "      <th>diff</th>\n",
       "    </tr>\n",
       "  </thead>\n",
       "  <tbody>\n",
       "    <tr>\n",
       "      <th>0</th>\n",
       "      <td>0.007931</td>\n",
       "      <td>0.000251</td>\n",
       "      <td>0</td>\n",
       "      <td>0.007680</td>\n",
       "    </tr>\n",
       "    <tr>\n",
       "      <th>1</th>\n",
       "      <td>0.000814</td>\n",
       "      <td>0.000112</td>\n",
       "      <td>0</td>\n",
       "      <td>0.000702</td>\n",
       "    </tr>\n",
       "    <tr>\n",
       "      <th>2</th>\n",
       "      <td>0.000395</td>\n",
       "      <td>0.000245</td>\n",
       "      <td>0</td>\n",
       "      <td>0.000150</td>\n",
       "    </tr>\n",
       "    <tr>\n",
       "      <th>3</th>\n",
       "      <td>0.000261</td>\n",
       "      <td>0.000091</td>\n",
       "      <td>0</td>\n",
       "      <td>0.000170</td>\n",
       "    </tr>\n",
       "    <tr>\n",
       "      <th>4</th>\n",
       "      <td>0.000222</td>\n",
       "      <td>0.000091</td>\n",
       "      <td>0</td>\n",
       "      <td>0.000131</td>\n",
       "    </tr>\n",
       "  </tbody>\n",
       "</table>\n",
       "</div>"
      ],
      "text/plain": [
       "       loss  val_loss  window_index      diff\n",
       "0  0.007931  0.000251             0  0.007680\n",
       "1  0.000814  0.000112             0  0.000702\n",
       "2  0.000395  0.000245             0  0.000150\n",
       "3  0.000261  0.000091             0  0.000170\n",
       "4  0.000222  0.000091             0  0.000131"
      ]
     },
     "metadata": {},
     "output_type": "display_data"
    },
    {
     "data": {
      "image/png": "[encoded data removed]",
      "text/plain": [
       "<Figure size 640x480 with 1 Axes>"
      ]
     },
     "metadata": {},
     "output_type": "display_data"
    }
   ],
   "source": [
    "# https://matplotlib.org/stable/gallery/subplots_axes_and_figures/two_scales.html\n",
    "df_fit_history[\"diff\"] = df_fit_history[\"loss\"] - df_fit_history[\"val_loss\"]\n",
    "display(df_fit_history.head())\n",
    "df_window_train_val_diff_sum = df_fit_history\\\n",
    "    .groupby(\"window_index\")\\\n",
    "    .agg(diff_sum=(\"diff\", \"sum\"))\\\n",
    "    .reset_index(drop=False)\\\n",
    "    .plot.scatter(x=\"window_index\", y=\"diff_sum\")\n",
    "\n",
    "# display(df_window_train_val_diff_sum.head())\n",
    "# df_fit_history[\"diff\"].plot.line()"
   ]
  }
 ],
 "metadata": {
  "kernelspec": {
   "display_name": "Python 3 (ipykernel)",
   "language": "python",
   "name": "python3"
  },
  "language_info": {
   "codemirror_mode": {
    "name": "ipython",
    "version": 3
   },
   "file_extension": ".py",
   "mimetype": "text/x-python",
   "name": "python",
   "nbconvert_exporter": "python",
   "pygments_lexer": "ipython3",
   "version": "3.9.17"
  }
 },
 "nbformat": 4,
 "nbformat_minor": 4
}
